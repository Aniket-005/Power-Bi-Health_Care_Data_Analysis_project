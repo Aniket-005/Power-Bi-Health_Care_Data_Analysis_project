{
 "cells": [
  {
   "cell_type": "markdown",
   "id": "c3d876de-50af-46ce-9abe-dcfc08f9be06",
   "metadata": {},
   "source": [
    "# import libraries "
   ]
  },
  {
   "cell_type": "code",
   "execution_count": 2,
   "id": "a7dfa1bd-3c40-49e8-a3ea-f6ccbaf59501",
   "metadata": {},
   "outputs": [],
   "source": [
    "import pandas as pd\n",
    "import numpy as np"
   ]
  },
  {
   "cell_type": "markdown",
   "id": "a39c4257-0748-492c-9c8b-e8194ba283e9",
   "metadata": {},
   "source": [
    "# Load DataSet"
   ]
  },
  {
   "cell_type": "code",
   "execution_count": 4,
   "id": "703ce8f4-c0d8-416a-81fb-7012fa117070",
   "metadata": {},
   "outputs": [],
   "source": [
    "df= pd.read_csv(r\"C:\\Users\\Aniket\\Downloads\\healthcare_dataset.csv\")"
   ]
  },
  {
   "cell_type": "code",
   "execution_count": 6,
   "id": "45725245-4cbe-4648-9d26-c57fc4fa09bc",
   "metadata": {},
   "outputs": [
    {
     "data": {
      "text/html": [
       "<div>\n",
       "<style scoped>\n",
       "    .dataframe tbody tr th:only-of-type {\n",
       "        vertical-align: middle;\n",
       "    }\n",
       "\n",
       "    .dataframe tbody tr th {\n",
       "        vertical-align: top;\n",
       "    }\n",
       "\n",
       "    .dataframe thead th {\n",
       "        text-align: right;\n",
       "    }\n",
       "</style>\n",
       "<table border=\"1\" class=\"dataframe\">\n",
       "  <thead>\n",
       "    <tr style=\"text-align: right;\">\n",
       "      <th></th>\n",
       "      <th>Name</th>\n",
       "      <th>Age</th>\n",
       "      <th>Gender</th>\n",
       "      <th>Blood Type</th>\n",
       "      <th>Medical Condition</th>\n",
       "      <th>Date of Admission</th>\n",
       "      <th>Doctor</th>\n",
       "      <th>Hospital</th>\n",
       "      <th>Insurance Provider</th>\n",
       "      <th>Billing Amount</th>\n",
       "      <th>Room Number</th>\n",
       "      <th>Admission Type</th>\n",
       "      <th>Discharge Date</th>\n",
       "      <th>Medication</th>\n",
       "      <th>Test Results</th>\n",
       "    </tr>\n",
       "  </thead>\n",
       "  <tbody>\n",
       "    <tr>\n",
       "      <th>0</th>\n",
       "      <td>Tiffany Ramirez</td>\n",
       "      <td>81.0</td>\n",
       "      <td>Female</td>\n",
       "      <td>O-</td>\n",
       "      <td>Diabetes</td>\n",
       "      <td>17-11-2022</td>\n",
       "      <td>Patrick Parker</td>\n",
       "      <td>Wallace-Hamilton</td>\n",
       "      <td>Medicare</td>\n",
       "      <td>37491.0</td>\n",
       "      <td>146</td>\n",
       "      <td>Elective</td>\n",
       "      <td>01-12-2022</td>\n",
       "      <td>Aspirin</td>\n",
       "      <td>Inconclusive</td>\n",
       "    </tr>\n",
       "  </tbody>\n",
       "</table>\n",
       "</div>"
      ],
      "text/plain": [
       "              Name   Age  Gender Blood Type Medical Condition  \\\n",
       "0  Tiffany Ramirez  81.0  Female         O-          Diabetes   \n",
       "\n",
       "  Date of Admission          Doctor          Hospital Insurance Provider  \\\n",
       "0        17-11-2022  Patrick Parker  Wallace-Hamilton           Medicare   \n",
       "\n",
       "   Billing Amount  Room Number Admission Type Discharge Date Medication  \\\n",
       "0         37491.0          146       Elective     01-12-2022    Aspirin   \n",
       "\n",
       "   Test Results  \n",
       "0  Inconclusive  "
      ]
     },
     "execution_count": 6,
     "metadata": {},
     "output_type": "execute_result"
    }
   ],
   "source": [
    "df.head(1)"
   ]
  },
  {
   "cell_type": "code",
   "execution_count": 9,
   "id": "5a9fffee-a875-4bc2-9eca-a4519114fff2",
   "metadata": {},
   "outputs": [
    {
     "data": {
      "text/plain": [
       "pandas.core.frame.DataFrame"
      ]
     },
     "execution_count": 9,
     "metadata": {},
     "output_type": "execute_result"
    }
   ],
   "source": [
    "type(df)"
   ]
  },
  {
   "cell_type": "code",
   "execution_count": 11,
   "id": "468fc2d7-e87c-4310-aa0a-18be6ef766a1",
   "metadata": {},
   "outputs": [
    {
     "data": {
      "text/plain": [
       "(10004, 15)"
      ]
     },
     "execution_count": 11,
     "metadata": {},
     "output_type": "execute_result"
    }
   ],
   "source": [
    "df.shape"
   ]
  },
  {
   "cell_type": "markdown",
   "id": "84c6e263-9b9a-46cc-9e51-ce55b77d7083",
   "metadata": {},
   "source": [
    "# Rename Table Name"
   ]
  },
  {
   "cell_type": "code",
   "execution_count": 14,
   "id": "e4d57731-f05d-4aa9-9db1-59856a3ae6c2",
   "metadata": {},
   "outputs": [],
   "source": [
    "df= df.rename(columns= {\"Date of Admission\":\"Admission_Date\",  \"Blood Type\":\"Blood_Type\",  \"Doctor\":\"Doctor_Name\",    \"Hospital\":\"Hospital_Name\",\n",
    "                        \"Date of Admission\":\"Date_of_Admission\"  ,\"Insurance Provider\":\"Insurance_Provider\",  \"Billing Amount\":\"Billing_Amount\",\n",
    "                        \"Room Number\":\"Room_Number\",  \"Admission Type\":\"Admission_Type\",  \"Discharge Date\": \"Discharge_Date\",\n",
    "                        \"Test Results\":\"Test_Results\",\"Medical Condition\" : \"Medical_Condition\"})"
   ]
  },
  {
   "cell_type": "code",
   "execution_count": 16,
   "id": "39883207-2049-4ee6-9639-6058dcee7272",
   "metadata": {},
   "outputs": [
    {
     "data": {
      "text/html": [
       "<div>\n",
       "<style scoped>\n",
       "    .dataframe tbody tr th:only-of-type {\n",
       "        vertical-align: middle;\n",
       "    }\n",
       "\n",
       "    .dataframe tbody tr th {\n",
       "        vertical-align: top;\n",
       "    }\n",
       "\n",
       "    .dataframe thead th {\n",
       "        text-align: right;\n",
       "    }\n",
       "</style>\n",
       "<table border=\"1\" class=\"dataframe\">\n",
       "  <thead>\n",
       "    <tr style=\"text-align: right;\">\n",
       "      <th></th>\n",
       "      <th>Name</th>\n",
       "      <th>Age</th>\n",
       "      <th>Gender</th>\n",
       "      <th>Blood_Type</th>\n",
       "      <th>Medical_Condition</th>\n",
       "      <th>Date_of_Admission</th>\n",
       "      <th>Doctor_Name</th>\n",
       "      <th>Hospital_Name</th>\n",
       "      <th>Insurance_Provider</th>\n",
       "      <th>Billing_Amount</th>\n",
       "      <th>Room_Number</th>\n",
       "      <th>Admission_Type</th>\n",
       "      <th>Discharge_Date</th>\n",
       "      <th>Medication</th>\n",
       "      <th>Test_Results</th>\n",
       "    </tr>\n",
       "  </thead>\n",
       "  <tbody>\n",
       "    <tr>\n",
       "      <th>0</th>\n",
       "      <td>Tiffany Ramirez</td>\n",
       "      <td>81.0</td>\n",
       "      <td>Female</td>\n",
       "      <td>O-</td>\n",
       "      <td>Diabetes</td>\n",
       "      <td>17-11-2022</td>\n",
       "      <td>Patrick Parker</td>\n",
       "      <td>Wallace-Hamilton</td>\n",
       "      <td>Medicare</td>\n",
       "      <td>37491.0</td>\n",
       "      <td>146</td>\n",
       "      <td>Elective</td>\n",
       "      <td>01-12-2022</td>\n",
       "      <td>Aspirin</td>\n",
       "      <td>Inconclusive</td>\n",
       "    </tr>\n",
       "    <tr>\n",
       "      <th>1</th>\n",
       "      <td>Ruben Burns</td>\n",
       "      <td>35.0</td>\n",
       "      <td>Male</td>\n",
       "      <td>O+</td>\n",
       "      <td>Asthma</td>\n",
       "      <td>01-06-2023</td>\n",
       "      <td>Diane Jackson</td>\n",
       "      <td>Burke, Griffin and Cooper</td>\n",
       "      <td>UnitedHealthcare</td>\n",
       "      <td>47304.0</td>\n",
       "      <td>404</td>\n",
       "      <td>Emergency</td>\n",
       "      <td>15-06-2023</td>\n",
       "      <td>Lipitor</td>\n",
       "      <td>Normal</td>\n",
       "    </tr>\n",
       "    <tr>\n",
       "      <th>2</th>\n",
       "      <td>Chad Byrd</td>\n",
       "      <td>61.0</td>\n",
       "      <td>Male</td>\n",
       "      <td>B-</td>\n",
       "      <td>Obesity</td>\n",
       "      <td>09-01-2019</td>\n",
       "      <td>Paul Baker</td>\n",
       "      <td>Walton LLC</td>\n",
       "      <td>Medicare</td>\n",
       "      <td>36875.0</td>\n",
       "      <td>292</td>\n",
       "      <td>Emergency</td>\n",
       "      <td>08-02-2019</td>\n",
       "      <td>Lipitor</td>\n",
       "      <td>Normal</td>\n",
       "    </tr>\n",
       "    <tr>\n",
       "      <th>3</th>\n",
       "      <td>Antonio Frederick</td>\n",
       "      <td>49.0</td>\n",
       "      <td>Male</td>\n",
       "      <td>B-</td>\n",
       "      <td>Asthma</td>\n",
       "      <td>02-05-2020</td>\n",
       "      <td>Brian Chandler</td>\n",
       "      <td>Garcia Ltd</td>\n",
       "      <td>Medicare</td>\n",
       "      <td>23303.0</td>\n",
       "      <td>480</td>\n",
       "      <td>Urgent</td>\n",
       "      <td>03-05-2020</td>\n",
       "      <td>Penicillin</td>\n",
       "      <td>Abnormal</td>\n",
       "    </tr>\n",
       "    <tr>\n",
       "      <th>4</th>\n",
       "      <td>Mrs. Brandy Flowers</td>\n",
       "      <td>51.0</td>\n",
       "      <td>Male</td>\n",
       "      <td>O-</td>\n",
       "      <td>Arthritis</td>\n",
       "      <td>09-07-2021</td>\n",
       "      <td>Dustin Griffin</td>\n",
       "      <td>Jones, Brown and Murray</td>\n",
       "      <td>UnitedHealthcare</td>\n",
       "      <td>18086.0</td>\n",
       "      <td>477</td>\n",
       "      <td>Urgent</td>\n",
       "      <td>02-08-2021</td>\n",
       "      <td>Paracetamol</td>\n",
       "      <td>Normal</td>\n",
       "    </tr>\n",
       "  </tbody>\n",
       "</table>\n",
       "</div>"
      ],
      "text/plain": [
       "                  Name   Age  Gender Blood_Type Medical_Condition  \\\n",
       "0      Tiffany Ramirez  81.0  Female         O-          Diabetes   \n",
       "1          Ruben Burns  35.0    Male         O+            Asthma   \n",
       "2            Chad Byrd  61.0    Male         B-           Obesity   \n",
       "3    Antonio Frederick  49.0    Male         B-            Asthma   \n",
       "4  Mrs. Brandy Flowers  51.0    Male         O-         Arthritis   \n",
       "\n",
       "  Date_of_Admission     Doctor_Name              Hospital_Name  \\\n",
       "0        17-11-2022  Patrick Parker           Wallace-Hamilton   \n",
       "1        01-06-2023   Diane Jackson  Burke, Griffin and Cooper   \n",
       "2        09-01-2019      Paul Baker                 Walton LLC   \n",
       "3        02-05-2020  Brian Chandler                 Garcia Ltd   \n",
       "4        09-07-2021  Dustin Griffin    Jones, Brown and Murray   \n",
       "\n",
       "  Insurance_Provider  Billing_Amount  Room_Number Admission_Type  \\\n",
       "0           Medicare         37491.0          146       Elective   \n",
       "1   UnitedHealthcare         47304.0          404      Emergency   \n",
       "2           Medicare         36875.0          292      Emergency   \n",
       "3           Medicare         23303.0          480         Urgent   \n",
       "4   UnitedHealthcare         18086.0          477         Urgent   \n",
       "\n",
       "  Discharge_Date   Medication  Test_Results  \n",
       "0     01-12-2022      Aspirin  Inconclusive  \n",
       "1     15-06-2023      Lipitor        Normal  \n",
       "2     08-02-2019      Lipitor        Normal  \n",
       "3     03-05-2020   Penicillin      Abnormal  \n",
       "4     02-08-2021  Paracetamol        Normal  "
      ]
     },
     "execution_count": 16,
     "metadata": {},
     "output_type": "execute_result"
    }
   ],
   "source": [
    "df.head(5)"
   ]
  },
  {
   "cell_type": "markdown",
   "id": "4a341297-bd8d-4891-b1c3-3223decfabd2",
   "metadata": {},
   "source": [
    "# Change Data Types "
   ]
  },
  {
   "cell_type": "code",
   "execution_count": 19,
   "id": "890eca1a-8148-4914-9a71-59d685f988e1",
   "metadata": {},
   "outputs": [
    {
     "data": {
      "text/plain": [
       "Name                   object\n",
       "Age                   float64\n",
       "Gender                 object\n",
       "Blood_Type             object\n",
       "Medical_Condition      object\n",
       "Date_of_Admission      object\n",
       "Doctor_Name            object\n",
       "Hospital_Name          object\n",
       "Insurance_Provider     object\n",
       "Billing_Amount        float64\n",
       "Room_Number             int64\n",
       "Admission_Type         object\n",
       "Discharge_Date         object\n",
       "Medication             object\n",
       "Test_Results           object\n",
       "dtype: object"
      ]
     },
     "execution_count": 19,
     "metadata": {},
     "output_type": "execute_result"
    }
   ],
   "source": [
    "df.dtypes"
   ]
  },
  {
   "cell_type": "code",
   "execution_count": 21,
   "id": "65c8eab8-fc33-442f-ac1c-f8979f94934c",
   "metadata": {},
   "outputs": [],
   "source": [
    "df['Billing_Amount']=df['Billing_Amount'].astype('float64')"
   ]
  },
  {
   "cell_type": "code",
   "execution_count": 23,
   "id": "f167f0ce-070b-4a08-818b-9b576e5c2130",
   "metadata": {},
   "outputs": [
    {
     "name": "stderr",
     "output_type": "stream",
     "text": [
      "C:\\Users\\Aniket\\AppData\\Local\\Temp\\ipykernel_28216\\979881169.py:1: UserWarning: Parsing dates in %d-%m-%Y format when dayfirst=False (the default) was specified. Pass `dayfirst=True` or specify a format to silence this warning.\n",
      "  df[\"Date_of_Admission\"]= pd.to_datetime(df[\"Date_of_Admission\"])\n"
     ]
    }
   ],
   "source": [
    "df[\"Date_of_Admission\"]= pd.to_datetime(df[\"Date_of_Admission\"])"
   ]
  },
  {
   "cell_type": "code",
   "execution_count": 25,
   "id": "c957f943-1fd1-4759-9cd1-84a08f5387a5",
   "metadata": {},
   "outputs": [],
   "source": [
    "df[\"Discharge_Date\"] = pd.to_datetime(df[\"Discharge_Date\"], format=\"%d-%m-%Y\")\n"
   ]
  },
  {
   "cell_type": "code",
   "execution_count": 27,
   "id": "e8a1bbd9-415e-4b3b-89ab-cf4c5de63ae8",
   "metadata": {},
   "outputs": [
    {
     "data": {
      "text/plain": [
       "Name                          object\n",
       "Age                          float64\n",
       "Gender                        object\n",
       "Blood_Type                    object\n",
       "Medical_Condition             object\n",
       "Date_of_Admission     datetime64[ns]\n",
       "Doctor_Name                   object\n",
       "Hospital_Name                 object\n",
       "Insurance_Provider            object\n",
       "Billing_Amount               float64\n",
       "Room_Number                    int64\n",
       "Admission_Type                object\n",
       "Discharge_Date        datetime64[ns]\n",
       "Medication                    object\n",
       "Test_Results                  object\n",
       "dtype: object"
      ]
     },
     "execution_count": 27,
     "metadata": {},
     "output_type": "execute_result"
    }
   ],
   "source": [
    "df.dtypes"
   ]
  },
  {
   "cell_type": "markdown",
   "id": "c1962f61-2dc7-405b-b1ee-6bab977da4bd",
   "metadata": {},
   "source": [
    "# Handle Null Values"
   ]
  },
  {
   "cell_type": "code",
   "execution_count": null,
   "id": "fc8520e0-0824-40cc-8c89-26d8c7f72db7",
   "metadata": {},
   "outputs": [],
   "source": []
  },
  {
   "cell_type": "code",
   "execution_count": 31,
   "id": "fabfb571-f356-4a4f-b7d7-66b9a96a4163",
   "metadata": {},
   "outputs": [
    {
     "data": {
      "text/plain": [
       "20"
      ]
     },
     "execution_count": 31,
     "metadata": {},
     "output_type": "execute_result"
    }
   ],
   "source": [
    "df.isna().sum().sum()"
   ]
  },
  {
   "cell_type": "code",
   "execution_count": 33,
   "id": "fb16ac58-066d-49cf-9051-390975e19c48",
   "metadata": {},
   "outputs": [
    {
     "data": {
      "text/plain": [
       "Name                  False\n",
       "Age                    True\n",
       "Gender                 True\n",
       "Blood_Type            False\n",
       "Medical_Condition     False\n",
       "Date_of_Admission     False\n",
       "Doctor_Name           False\n",
       "Hospital_Name         False\n",
       "Insurance_Provider    False\n",
       "Billing_Amount         True\n",
       "Room_Number           False\n",
       "Admission_Type        False\n",
       "Discharge_Date        False\n",
       "Medication            False\n",
       "Test_Results          False\n",
       "dtype: bool"
      ]
     },
     "execution_count": 33,
     "metadata": {},
     "output_type": "execute_result"
    }
   ],
   "source": [
    "df.isna().any()"
   ]
  },
  {
   "cell_type": "markdown",
   "id": "a0707114-8f82-4c61-857e-405effb31331",
   "metadata": {},
   "source": [
    "# Fill Null Values()"
   ]
  },
  {
   "cell_type": "markdown",
   "id": "e482cfdf-8582-4e92-802b-2e2466be08a0",
   "metadata": {},
   "source": [
    "# Fill Gender column null values with NA"
   ]
  },
  {
   "cell_type": "code",
   "execution_count": 37,
   "id": "4e908d87-48d4-4e8f-8a32-5ae9cd977957",
   "metadata": {},
   "outputs": [
    {
     "name": "stderr",
     "output_type": "stream",
     "text": [
      "C:\\Users\\Aniket\\AppData\\Local\\Temp\\ipykernel_28216\\2138627115.py:1: FutureWarning: A value is trying to be set on a copy of a DataFrame or Series through chained assignment using an inplace method.\n",
      "The behavior will change in pandas 3.0. This inplace method will never work because the intermediate object on which we are setting values always behaves as a copy.\n",
      "\n",
      "For example, when doing 'df[col].method(value, inplace=True)', try using 'df.method({col: value}, inplace=True)' or df[col] = df[col].method(value) instead, to perform the operation inplace on the original object.\n",
      "\n",
      "\n",
      "  df[\"Gender\"].fillna(\"NA\",inplace=True)\n"
     ]
    }
   ],
   "source": [
    "df[\"Gender\"].fillna(\"NA\",inplace=True)"
   ]
  },
  {
   "cell_type": "code",
   "execution_count": 39,
   "id": "584e2e78-ea42-4998-8419-27ccc7c82c36",
   "metadata": {},
   "outputs": [
    {
     "data": {
      "text/html": [
       "<div>\n",
       "<style scoped>\n",
       "    .dataframe tbody tr th:only-of-type {\n",
       "        vertical-align: middle;\n",
       "    }\n",
       "\n",
       "    .dataframe tbody tr th {\n",
       "        vertical-align: top;\n",
       "    }\n",
       "\n",
       "    .dataframe thead th {\n",
       "        text-align: right;\n",
       "    }\n",
       "</style>\n",
       "<table border=\"1\" class=\"dataframe\">\n",
       "  <thead>\n",
       "    <tr style=\"text-align: right;\">\n",
       "      <th></th>\n",
       "      <th>Name</th>\n",
       "      <th>Age</th>\n",
       "      <th>Gender</th>\n",
       "      <th>Blood_Type</th>\n",
       "      <th>Medical_Condition</th>\n",
       "      <th>Date_of_Admission</th>\n",
       "      <th>Doctor_Name</th>\n",
       "      <th>Hospital_Name</th>\n",
       "      <th>Insurance_Provider</th>\n",
       "      <th>Billing_Amount</th>\n",
       "      <th>Room_Number</th>\n",
       "      <th>Admission_Type</th>\n",
       "      <th>Discharge_Date</th>\n",
       "      <th>Medication</th>\n",
       "      <th>Test_Results</th>\n",
       "    </tr>\n",
       "  </thead>\n",
       "  <tbody>\n",
       "  </tbody>\n",
       "</table>\n",
       "</div>"
      ],
      "text/plain": [
       "Empty DataFrame\n",
       "Columns: [Name, Age, Gender, Blood_Type, Medical_Condition, Date_of_Admission, Doctor_Name, Hospital_Name, Insurance_Provider, Billing_Amount, Room_Number, Admission_Type, Discharge_Date, Medication, Test_Results]\n",
       "Index: []"
      ]
     },
     "execution_count": 39,
     "metadata": {},
     "output_type": "execute_result"
    }
   ],
   "source": [
    "df[df[\"Gender\"].isnull()==1]"
   ]
  },
  {
   "cell_type": "markdown",
   "id": "aa7040df-a0d8-4b25-ae13-7ac523375e99",
   "metadata": {},
   "source": [
    "# Fill Billing Amount column null values with mean"
   ]
  },
  {
   "cell_type": "code",
   "execution_count": 42,
   "id": "3b44674f-9ae1-4816-8177-cf12f0390a6a",
   "metadata": {},
   "outputs": [
    {
     "name": "stderr",
     "output_type": "stream",
     "text": [
      "C:\\Users\\Aniket\\AppData\\Local\\Temp\\ipykernel_28216\\1191098074.py:1: FutureWarning: A value is trying to be set on a copy of a DataFrame or Series through chained assignment using an inplace method.\n",
      "The behavior will change in pandas 3.0. This inplace method will never work because the intermediate object on which we are setting values always behaves as a copy.\n",
      "\n",
      "For example, when doing 'df[col].method(value, inplace=True)', try using 'df.method({col: value}, inplace=True)' or df[col] = df[col].method(value) instead, to perform the operation inplace on the original object.\n",
      "\n",
      "\n",
      "  df[\"Billing_Amount\"].fillna(df[\"Billing_Amount\"].mean(),inplace= True)\n"
     ]
    }
   ],
   "source": [
    "df[\"Billing_Amount\"].fillna(df[\"Billing_Amount\"].mean(),inplace= True)"
   ]
  },
  {
   "cell_type": "code",
   "execution_count": 44,
   "id": "7d5554b8-e2f9-4583-a0b9-2910dd5d6ac2",
   "metadata": {},
   "outputs": [
    {
     "data": {
      "text/html": [
       "<div>\n",
       "<style scoped>\n",
       "    .dataframe tbody tr th:only-of-type {\n",
       "        vertical-align: middle;\n",
       "    }\n",
       "\n",
       "    .dataframe tbody tr th {\n",
       "        vertical-align: top;\n",
       "    }\n",
       "\n",
       "    .dataframe thead th {\n",
       "        text-align: right;\n",
       "    }\n",
       "</style>\n",
       "<table border=\"1\" class=\"dataframe\">\n",
       "  <thead>\n",
       "    <tr style=\"text-align: right;\">\n",
       "      <th></th>\n",
       "      <th>Name</th>\n",
       "      <th>Age</th>\n",
       "      <th>Gender</th>\n",
       "      <th>Blood_Type</th>\n",
       "      <th>Medical_Condition</th>\n",
       "      <th>Date_of_Admission</th>\n",
       "      <th>Doctor_Name</th>\n",
       "      <th>Hospital_Name</th>\n",
       "      <th>Insurance_Provider</th>\n",
       "      <th>Billing_Amount</th>\n",
       "      <th>Room_Number</th>\n",
       "      <th>Admission_Type</th>\n",
       "      <th>Discharge_Date</th>\n",
       "      <th>Medication</th>\n",
       "      <th>Test_Results</th>\n",
       "    </tr>\n",
       "  </thead>\n",
       "  <tbody>\n",
       "  </tbody>\n",
       "</table>\n",
       "</div>"
      ],
      "text/plain": [
       "Empty DataFrame\n",
       "Columns: [Name, Age, Gender, Blood_Type, Medical_Condition, Date_of_Admission, Doctor_Name, Hospital_Name, Insurance_Provider, Billing_Amount, Room_Number, Admission_Type, Discharge_Date, Medication, Test_Results]\n",
       "Index: []"
      ]
     },
     "execution_count": 44,
     "metadata": {},
     "output_type": "execute_result"
    }
   ],
   "source": [
    "df[df[\"Billing_Amount\"].isnull()==1]"
   ]
  },
  {
   "cell_type": "markdown",
   "id": "b3e44cb1-6756-4d0a-b4a8-05ffbba9c3be",
   "metadata": {},
   "source": [
    "# Fill Age column null values with mean "
   ]
  },
  {
   "cell_type": "code",
   "execution_count": 47,
   "id": "5f6ae58e-35cd-4acb-9b1f-bfc03564017c",
   "metadata": {},
   "outputs": [
    {
     "name": "stderr",
     "output_type": "stream",
     "text": [
      "C:\\Users\\Aniket\\AppData\\Local\\Temp\\ipykernel_28216\\2595122914.py:1: FutureWarning: A value is trying to be set on a copy of a DataFrame or Series through chained assignment using an inplace method.\n",
      "The behavior will change in pandas 3.0. This inplace method will never work because the intermediate object on which we are setting values always behaves as a copy.\n",
      "\n",
      "For example, when doing 'df[col].method(value, inplace=True)', try using 'df.method({col: value}, inplace=True)' or df[col] = df[col].method(value) instead, to perform the operation inplace on the original object.\n",
      "\n",
      "\n",
      "  df[\"Age\"].fillna(df[\"Age\"].mean(),inplace=True)\n"
     ]
    }
   ],
   "source": [
    "df[\"Age\"].fillna(df[\"Age\"].mean(),inplace=True)"
   ]
  },
  {
   "cell_type": "code",
   "execution_count": 49,
   "id": "44658637-816d-4db5-b9e8-1b3ceb787c15",
   "metadata": {},
   "outputs": [
    {
     "data": {
      "text/html": [
       "<div>\n",
       "<style scoped>\n",
       "    .dataframe tbody tr th:only-of-type {\n",
       "        vertical-align: middle;\n",
       "    }\n",
       "\n",
       "    .dataframe tbody tr th {\n",
       "        vertical-align: top;\n",
       "    }\n",
       "\n",
       "    .dataframe thead th {\n",
       "        text-align: right;\n",
       "    }\n",
       "</style>\n",
       "<table border=\"1\" class=\"dataframe\">\n",
       "  <thead>\n",
       "    <tr style=\"text-align: right;\">\n",
       "      <th></th>\n",
       "      <th>Name</th>\n",
       "      <th>Age</th>\n",
       "      <th>Gender</th>\n",
       "      <th>Blood_Type</th>\n",
       "      <th>Medical_Condition</th>\n",
       "      <th>Date_of_Admission</th>\n",
       "      <th>Doctor_Name</th>\n",
       "      <th>Hospital_Name</th>\n",
       "      <th>Insurance_Provider</th>\n",
       "      <th>Billing_Amount</th>\n",
       "      <th>Room_Number</th>\n",
       "      <th>Admission_Type</th>\n",
       "      <th>Discharge_Date</th>\n",
       "      <th>Medication</th>\n",
       "      <th>Test_Results</th>\n",
       "    </tr>\n",
       "  </thead>\n",
       "  <tbody>\n",
       "  </tbody>\n",
       "</table>\n",
       "</div>"
      ],
      "text/plain": [
       "Empty DataFrame\n",
       "Columns: [Name, Age, Gender, Blood_Type, Medical_Condition, Date_of_Admission, Doctor_Name, Hospital_Name, Insurance_Provider, Billing_Amount, Room_Number, Admission_Type, Discharge_Date, Medication, Test_Results]\n",
       "Index: []"
      ]
     },
     "execution_count": 49,
     "metadata": {},
     "output_type": "execute_result"
    }
   ],
   "source": [
    "df[df[\"Age\"].isnull()==1]"
   ]
  },
  {
   "cell_type": "code",
   "execution_count": 51,
   "id": "650908c8-bb73-4414-88d8-601acc486712",
   "metadata": {},
   "outputs": [
    {
     "data": {
      "text/plain": [
       "0"
      ]
     },
     "execution_count": 51,
     "metadata": {},
     "output_type": "execute_result"
    }
   ],
   "source": [
    "df.isnull().sum().sum()"
   ]
  },
  {
   "cell_type": "code",
   "execution_count": 53,
   "id": "38018f79-1a49-4976-a53a-62c0c3b837c8",
   "metadata": {},
   "outputs": [
    {
     "data": {
      "text/plain": [
       "(10004, 15)"
      ]
     },
     "execution_count": 53,
     "metadata": {},
     "output_type": "execute_result"
    }
   ],
   "source": [
    "df.shape"
   ]
  },
  {
   "cell_type": "markdown",
   "id": "e79598f3-473b-48e6-93b5-d283c59c91f0",
   "metadata": {},
   "source": [
    "# Handle Duplicate Values"
   ]
  },
  {
   "cell_type": "code",
   "execution_count": 56,
   "id": "53f3eb10-1f81-4476-a43f-f058bb3e1452",
   "metadata": {},
   "outputs": [
    {
     "data": {
      "text/plain": [
       "4"
      ]
     },
     "execution_count": 56,
     "metadata": {},
     "output_type": "execute_result"
    }
   ],
   "source": [
    "df.duplicated().sum()"
   ]
  },
  {
   "cell_type": "markdown",
   "id": "00608de2-e1f6-4b31-94bf-26cc54686825",
   "metadata": {},
   "source": [
    "# Drop Duplicates"
   ]
  },
  {
   "cell_type": "code",
   "execution_count": 59,
   "id": "20ede64c-2e6e-4af0-b862-07f9e5df3dba",
   "metadata": {},
   "outputs": [],
   "source": [
    "df=df.drop_duplicates()"
   ]
  },
  {
   "cell_type": "markdown",
   "id": "a0e81527-db8f-44bd-b5d3-e86ea5218a34",
   "metadata": {},
   "source": [
    "# Shape"
   ]
  },
  {
   "cell_type": "code",
   "execution_count": 62,
   "id": "e3cb25ba-3ed0-4fde-be97-dc00477563ca",
   "metadata": {},
   "outputs": [
    {
     "data": {
      "text/plain": [
       "(10000, 15)"
      ]
     },
     "execution_count": 62,
     "metadata": {},
     "output_type": "execute_result"
    }
   ],
   "source": [
    "df.shape"
   ]
  },
  {
   "cell_type": "markdown",
   "id": "971b1e1e-25f4-45e6-9950-79a5d119c9b1",
   "metadata": {},
   "source": [
    "# Feature Enginering"
   ]
  },
  {
   "cell_type": "markdown",
   "id": "7ec241d4-6124-41fc-8777-4efb08de9fc0",
   "metadata": {},
   "source": [
    "# Create New Columns"
   ]
  },
  {
   "cell_type": "raw",
   "id": "16ef5f77-169f-423e-a92c-32f5fd5ace67",
   "metadata": {},
   "source": [
    "# New Column Age_Group "
   ]
  },
  {
   "cell_type": "code",
   "execution_count": 66,
   "id": "18f24b11-9982-414a-9d9a-5ca61f4e5e1d",
   "metadata": {},
   "outputs": [],
   "source": [
    "df[\"Age_Group\"]= pd.cut(df['Age'], bins=[0,30,50,100], labels=['Young','Middle Age','Adult'])"
   ]
  },
  {
   "cell_type": "raw",
   "id": "0293403d-1b4a-4ea3-94c0-e86ba91dfe81",
   "metadata": {},
   "source": [
    "# New Column Length_Of_Hospital_Stay "
   ]
  },
  {
   "cell_type": "code",
   "execution_count": 68,
   "id": "5cfa6e4e-c4dd-4293-8d17-62eb9d24e670",
   "metadata": {},
   "outputs": [],
   "source": [
    "df[\"Length_of_Hospital_Stay\"] = (df[\"Discharge_Date\"] - df[\"Date_of_Admission\"]).dt.days"
   ]
  },
  {
   "cell_type": "raw",
   "id": "dd9a3e9b-d1f5-4dbf-bd14-028148ad78a7",
   "metadata": {},
   "source": [
    "# New Column Bill_Category based on Billing_Amount_Column"
   ]
  },
  {
   "cell_type": "code",
   "execution_count": 70,
   "id": "f2361312-74ef-4332-a463-fdba774b9ce0",
   "metadata": {},
   "outputs": [],
   "source": [
    "df[\"Bill_Category\"] = pd.cut(df[\"Billing_Amount\"], bins=[0,10000,30000,50000,100000], labels=[\"Low\",\"Medium\",\"High\",\"Very High\"])"
   ]
  },
  {
   "cell_type": "raw",
   "id": "9b574722-5c77-4fe3-9d61-0975891b6428",
   "metadata": {},
   "source": [
    "# New Column Admit_Month_Name"
   ]
  },
  {
   "cell_type": "code",
   "execution_count": 72,
   "id": "1fc8622d-ef12-4c86-b422-236106641d14",
   "metadata": {},
   "outputs": [],
   "source": [
    "df[\"Admit_Month_Name\"] = df[\"Date_of_Admission\"].dt.strftime('%B')"
   ]
  },
  {
   "cell_type": "raw",
   "id": "9785ed93-c06d-4267-9d29-8ac73ff6d2d3",
   "metadata": {},
   "source": [
    "# New Column Admit_Year"
   ]
  },
  {
   "cell_type": "code",
   "execution_count": 74,
   "id": "be27848c-fd12-47e0-8878-94d5a9ffcf0b",
   "metadata": {},
   "outputs": [],
   "source": [
    "df['Admit_Year']= df['Date_of_Admission'].dt.year"
   ]
  },
  {
   "cell_type": "code",
   "execution_count": 76,
   "id": "1298b6ee-3698-44cb-99e6-db0c9e49353c",
   "metadata": {},
   "outputs": [],
   "source": [
    "# New Column Admit_Day_Of_Week"
   ]
  },
  {
   "cell_type": "code",
   "execution_count": 78,
   "id": "b9959e79-cb0a-45bb-be00-511b9b3ded9f",
   "metadata": {},
   "outputs": [],
   "source": [
    "df[\"Admit_Day_Of_Week\"]= df[\"Date_of_Admission\"].dt.day_name()"
   ]
  },
  {
   "cell_type": "code",
   "execution_count": 80,
   "id": "6e17c872-ccb2-4547-be9e-1d718b7a6e55",
   "metadata": {},
   "outputs": [
    {
     "data": {
      "text/html": [
       "<div>\n",
       "<style scoped>\n",
       "    .dataframe tbody tr th:only-of-type {\n",
       "        vertical-align: middle;\n",
       "    }\n",
       "\n",
       "    .dataframe tbody tr th {\n",
       "        vertical-align: top;\n",
       "    }\n",
       "\n",
       "    .dataframe thead th {\n",
       "        text-align: right;\n",
       "    }\n",
       "</style>\n",
       "<table border=\"1\" class=\"dataframe\">\n",
       "  <thead>\n",
       "    <tr style=\"text-align: right;\">\n",
       "      <th></th>\n",
       "      <th>Name</th>\n",
       "      <th>Age</th>\n",
       "      <th>Gender</th>\n",
       "      <th>Blood_Type</th>\n",
       "      <th>Medical_Condition</th>\n",
       "      <th>Date_of_Admission</th>\n",
       "      <th>Doctor_Name</th>\n",
       "      <th>Hospital_Name</th>\n",
       "      <th>Insurance_Provider</th>\n",
       "      <th>Billing_Amount</th>\n",
       "      <th>...</th>\n",
       "      <th>Admission_Type</th>\n",
       "      <th>Discharge_Date</th>\n",
       "      <th>Medication</th>\n",
       "      <th>Test_Results</th>\n",
       "      <th>Age_Group</th>\n",
       "      <th>Length_of_Hospital_Stay</th>\n",
       "      <th>Bill_Category</th>\n",
       "      <th>Admit_Month_Name</th>\n",
       "      <th>Admit_Year</th>\n",
       "      <th>Admit_Day_Of_Week</th>\n",
       "    </tr>\n",
       "  </thead>\n",
       "  <tbody>\n",
       "    <tr>\n",
       "      <th>0</th>\n",
       "      <td>Tiffany Ramirez</td>\n",
       "      <td>81.0</td>\n",
       "      <td>Female</td>\n",
       "      <td>O-</td>\n",
       "      <td>Diabetes</td>\n",
       "      <td>2022-11-17</td>\n",
       "      <td>Patrick Parker</td>\n",
       "      <td>Wallace-Hamilton</td>\n",
       "      <td>Medicare</td>\n",
       "      <td>37491.0</td>\n",
       "      <td>...</td>\n",
       "      <td>Elective</td>\n",
       "      <td>2022-12-01</td>\n",
       "      <td>Aspirin</td>\n",
       "      <td>Inconclusive</td>\n",
       "      <td>Adult</td>\n",
       "      <td>14</td>\n",
       "      <td>High</td>\n",
       "      <td>November</td>\n",
       "      <td>2022</td>\n",
       "      <td>Thursday</td>\n",
       "    </tr>\n",
       "    <tr>\n",
       "      <th>1</th>\n",
       "      <td>Ruben Burns</td>\n",
       "      <td>35.0</td>\n",
       "      <td>Male</td>\n",
       "      <td>O+</td>\n",
       "      <td>Asthma</td>\n",
       "      <td>2023-06-01</td>\n",
       "      <td>Diane Jackson</td>\n",
       "      <td>Burke, Griffin and Cooper</td>\n",
       "      <td>UnitedHealthcare</td>\n",
       "      <td>47304.0</td>\n",
       "      <td>...</td>\n",
       "      <td>Emergency</td>\n",
       "      <td>2023-06-15</td>\n",
       "      <td>Lipitor</td>\n",
       "      <td>Normal</td>\n",
       "      <td>Middle Age</td>\n",
       "      <td>14</td>\n",
       "      <td>High</td>\n",
       "      <td>June</td>\n",
       "      <td>2023</td>\n",
       "      <td>Thursday</td>\n",
       "    </tr>\n",
       "    <tr>\n",
       "      <th>2</th>\n",
       "      <td>Chad Byrd</td>\n",
       "      <td>61.0</td>\n",
       "      <td>Male</td>\n",
       "      <td>B-</td>\n",
       "      <td>Obesity</td>\n",
       "      <td>2019-01-09</td>\n",
       "      <td>Paul Baker</td>\n",
       "      <td>Walton LLC</td>\n",
       "      <td>Medicare</td>\n",
       "      <td>36875.0</td>\n",
       "      <td>...</td>\n",
       "      <td>Emergency</td>\n",
       "      <td>2019-02-08</td>\n",
       "      <td>Lipitor</td>\n",
       "      <td>Normal</td>\n",
       "      <td>Adult</td>\n",
       "      <td>30</td>\n",
       "      <td>High</td>\n",
       "      <td>January</td>\n",
       "      <td>2019</td>\n",
       "      <td>Wednesday</td>\n",
       "    </tr>\n",
       "    <tr>\n",
       "      <th>3</th>\n",
       "      <td>Antonio Frederick</td>\n",
       "      <td>49.0</td>\n",
       "      <td>Male</td>\n",
       "      <td>B-</td>\n",
       "      <td>Asthma</td>\n",
       "      <td>2020-05-02</td>\n",
       "      <td>Brian Chandler</td>\n",
       "      <td>Garcia Ltd</td>\n",
       "      <td>Medicare</td>\n",
       "      <td>23303.0</td>\n",
       "      <td>...</td>\n",
       "      <td>Urgent</td>\n",
       "      <td>2020-05-03</td>\n",
       "      <td>Penicillin</td>\n",
       "      <td>Abnormal</td>\n",
       "      <td>Middle Age</td>\n",
       "      <td>1</td>\n",
       "      <td>Medium</td>\n",
       "      <td>May</td>\n",
       "      <td>2020</td>\n",
       "      <td>Saturday</td>\n",
       "    </tr>\n",
       "    <tr>\n",
       "      <th>4</th>\n",
       "      <td>Mrs. Brandy Flowers</td>\n",
       "      <td>51.0</td>\n",
       "      <td>Male</td>\n",
       "      <td>O-</td>\n",
       "      <td>Arthritis</td>\n",
       "      <td>2021-07-09</td>\n",
       "      <td>Dustin Griffin</td>\n",
       "      <td>Jones, Brown and Murray</td>\n",
       "      <td>UnitedHealthcare</td>\n",
       "      <td>18086.0</td>\n",
       "      <td>...</td>\n",
       "      <td>Urgent</td>\n",
       "      <td>2021-08-02</td>\n",
       "      <td>Paracetamol</td>\n",
       "      <td>Normal</td>\n",
       "      <td>Adult</td>\n",
       "      <td>24</td>\n",
       "      <td>Medium</td>\n",
       "      <td>July</td>\n",
       "      <td>2021</td>\n",
       "      <td>Friday</td>\n",
       "    </tr>\n",
       "    <tr>\n",
       "      <th>5</th>\n",
       "      <td>Patrick Parker</td>\n",
       "      <td>41.0</td>\n",
       "      <td>Male</td>\n",
       "      <td>AB+</td>\n",
       "      <td>Arthritis</td>\n",
       "      <td>2020-08-20</td>\n",
       "      <td>Robin Green</td>\n",
       "      <td>Boyd PLC</td>\n",
       "      <td>Aetna</td>\n",
       "      <td>22522.0</td>\n",
       "      <td>...</td>\n",
       "      <td>Urgent</td>\n",
       "      <td>2020-08-23</td>\n",
       "      <td>Aspirin</td>\n",
       "      <td>Abnormal</td>\n",
       "      <td>Middle Age</td>\n",
       "      <td>3</td>\n",
       "      <td>Medium</td>\n",
       "      <td>August</td>\n",
       "      <td>2020</td>\n",
       "      <td>Thursday</td>\n",
       "    </tr>\n",
       "    <tr>\n",
       "      <th>6</th>\n",
       "      <td>Charles Horton</td>\n",
       "      <td>82.0</td>\n",
       "      <td>Male</td>\n",
       "      <td>AB+</td>\n",
       "      <td>Hypertension</td>\n",
       "      <td>2021-03-22</td>\n",
       "      <td>Patricia Bishop</td>\n",
       "      <td>Wheeler, Bryant and Johns</td>\n",
       "      <td>Cigna</td>\n",
       "      <td>39593.0</td>\n",
       "      <td>...</td>\n",
       "      <td>Urgent</td>\n",
       "      <td>2021-04-15</td>\n",
       "      <td>Lipitor</td>\n",
       "      <td>Abnormal</td>\n",
       "      <td>Adult</td>\n",
       "      <td>24</td>\n",
       "      <td>High</td>\n",
       "      <td>March</td>\n",
       "      <td>2021</td>\n",
       "      <td>Monday</td>\n",
       "    </tr>\n",
       "    <tr>\n",
       "      <th>7</th>\n",
       "      <td>Patty Norman</td>\n",
       "      <td>55.0</td>\n",
       "      <td>Female</td>\n",
       "      <td>O-</td>\n",
       "      <td>Arthritis</td>\n",
       "      <td>2019-05-16</td>\n",
       "      <td>Brian Kennedy</td>\n",
       "      <td>Brown Inc</td>\n",
       "      <td>Blue Cross</td>\n",
       "      <td>13547.0</td>\n",
       "      <td>...</td>\n",
       "      <td>Elective</td>\n",
       "      <td>2019-06-02</td>\n",
       "      <td>Aspirin</td>\n",
       "      <td>Normal</td>\n",
       "      <td>Adult</td>\n",
       "      <td>17</td>\n",
       "      <td>Medium</td>\n",
       "      <td>May</td>\n",
       "      <td>2019</td>\n",
       "      <td>Thursday</td>\n",
       "    </tr>\n",
       "    <tr>\n",
       "      <th>8</th>\n",
       "      <td>Ryan Hayes</td>\n",
       "      <td>33.0</td>\n",
       "      <td>Male</td>\n",
       "      <td>A+</td>\n",
       "      <td>Diabetes</td>\n",
       "      <td>2020-12-17</td>\n",
       "      <td>Kristin Dunn</td>\n",
       "      <td>Smith, Edwards and Obrien</td>\n",
       "      <td>Aetna</td>\n",
       "      <td>24903.0</td>\n",
       "      <td>...</td>\n",
       "      <td>Elective</td>\n",
       "      <td>2020-12-22</td>\n",
       "      <td>Aspirin</td>\n",
       "      <td>Abnormal</td>\n",
       "      <td>Middle Age</td>\n",
       "      <td>5</td>\n",
       "      <td>Medium</td>\n",
       "      <td>December</td>\n",
       "      <td>2020</td>\n",
       "      <td>Thursday</td>\n",
       "    </tr>\n",
       "    <tr>\n",
       "      <th>9</th>\n",
       "      <td>Sharon Perez</td>\n",
       "      <td>39.0</td>\n",
       "      <td>Female</td>\n",
       "      <td>O-</td>\n",
       "      <td>Asthma</td>\n",
       "      <td>2022-12-15</td>\n",
       "      <td>Jessica Bailey</td>\n",
       "      <td>Brown-Golden</td>\n",
       "      <td>Blue Cross</td>\n",
       "      <td>22788.0</td>\n",
       "      <td>...</td>\n",
       "      <td>Urgent</td>\n",
       "      <td>2022-12-16</td>\n",
       "      <td>Aspirin</td>\n",
       "      <td>Normal</td>\n",
       "      <td>Middle Age</td>\n",
       "      <td>1</td>\n",
       "      <td>Medium</td>\n",
       "      <td>December</td>\n",
       "      <td>2022</td>\n",
       "      <td>Thursday</td>\n",
       "    </tr>\n",
       "  </tbody>\n",
       "</table>\n",
       "<p>10 rows × 21 columns</p>\n",
       "</div>"
      ],
      "text/plain": [
       "                  Name   Age  Gender Blood_Type Medical_Condition  \\\n",
       "0      Tiffany Ramirez  81.0  Female         O-          Diabetes   \n",
       "1          Ruben Burns  35.0    Male         O+            Asthma   \n",
       "2            Chad Byrd  61.0    Male         B-           Obesity   \n",
       "3    Antonio Frederick  49.0    Male         B-            Asthma   \n",
       "4  Mrs. Brandy Flowers  51.0    Male         O-         Arthritis   \n",
       "5       Patrick Parker  41.0    Male        AB+         Arthritis   \n",
       "6       Charles Horton  82.0    Male        AB+      Hypertension   \n",
       "7         Patty Norman  55.0  Female         O-         Arthritis   \n",
       "8           Ryan Hayes  33.0    Male         A+          Diabetes   \n",
       "9         Sharon Perez  39.0  Female         O-            Asthma   \n",
       "\n",
       "  Date_of_Admission      Doctor_Name              Hospital_Name  \\\n",
       "0        2022-11-17   Patrick Parker           Wallace-Hamilton   \n",
       "1        2023-06-01    Diane Jackson  Burke, Griffin and Cooper   \n",
       "2        2019-01-09       Paul Baker                 Walton LLC   \n",
       "3        2020-05-02   Brian Chandler                 Garcia Ltd   \n",
       "4        2021-07-09   Dustin Griffin    Jones, Brown and Murray   \n",
       "5        2020-08-20      Robin Green                   Boyd PLC   \n",
       "6        2021-03-22  Patricia Bishop  Wheeler, Bryant and Johns   \n",
       "7        2019-05-16    Brian Kennedy                  Brown Inc   \n",
       "8        2020-12-17     Kristin Dunn  Smith, Edwards and Obrien   \n",
       "9        2022-12-15   Jessica Bailey               Brown-Golden   \n",
       "\n",
       "  Insurance_Provider  Billing_Amount  ...  Admission_Type Discharge_Date  \\\n",
       "0           Medicare         37491.0  ...        Elective     2022-12-01   \n",
       "1   UnitedHealthcare         47304.0  ...       Emergency     2023-06-15   \n",
       "2           Medicare         36875.0  ...       Emergency     2019-02-08   \n",
       "3           Medicare         23303.0  ...          Urgent     2020-05-03   \n",
       "4   UnitedHealthcare         18086.0  ...          Urgent     2021-08-02   \n",
       "5              Aetna         22522.0  ...          Urgent     2020-08-23   \n",
       "6              Cigna         39593.0  ...          Urgent     2021-04-15   \n",
       "7         Blue Cross         13547.0  ...        Elective     2019-06-02   \n",
       "8              Aetna         24903.0  ...        Elective     2020-12-22   \n",
       "9         Blue Cross         22788.0  ...          Urgent     2022-12-16   \n",
       "\n",
       "    Medication  Test_Results   Age_Group Length_of_Hospital_Stay  \\\n",
       "0      Aspirin  Inconclusive       Adult                      14   \n",
       "1      Lipitor        Normal  Middle Age                      14   \n",
       "2      Lipitor        Normal       Adult                      30   \n",
       "3   Penicillin      Abnormal  Middle Age                       1   \n",
       "4  Paracetamol        Normal       Adult                      24   \n",
       "5      Aspirin      Abnormal  Middle Age                       3   \n",
       "6      Lipitor      Abnormal       Adult                      24   \n",
       "7      Aspirin        Normal       Adult                      17   \n",
       "8      Aspirin      Abnormal  Middle Age                       5   \n",
       "9      Aspirin        Normal  Middle Age                       1   \n",
       "\n",
       "   Bill_Category Admit_Month_Name Admit_Year  Admit_Day_Of_Week  \n",
       "0           High         November       2022           Thursday  \n",
       "1           High             June       2023           Thursday  \n",
       "2           High          January       2019          Wednesday  \n",
       "3         Medium              May       2020           Saturday  \n",
       "4         Medium             July       2021             Friday  \n",
       "5         Medium           August       2020           Thursday  \n",
       "6           High            March       2021             Monday  \n",
       "7         Medium              May       2019           Thursday  \n",
       "8         Medium         December       2020           Thursday  \n",
       "9         Medium         December       2022           Thursday  \n",
       "\n",
       "[10 rows x 21 columns]"
      ]
     },
     "execution_count": 80,
     "metadata": {},
     "output_type": "execute_result"
    }
   ],
   "source": [
    "df.head(10)"
   ]
  },
  {
   "cell_type": "code",
   "execution_count": null,
   "id": "5d4ba948-ab51-472e-b59f-8a174940b7a9",
   "metadata": {},
   "outputs": [],
   "source": [
    "df.to_csv(r\"C:\\Users\\Aniket\\Desktop\\Health_Care_Data_Analysis_Project\\HealthCare_Cleaned_DataSet.csv\", index=False)"
   ]
  }
 ],
 "metadata": {
  "kernelspec": {
   "display_name": "Python 3 (ipykernel)",
   "language": "python",
   "name": "python3"
  },
  "language_info": {
   "codemirror_mode": {
    "name": "ipython",
    "version": 3
   },
   "file_extension": ".py",
   "mimetype": "text/x-python",
   "name": "python",
   "nbconvert_exporter": "python",
   "pygments_lexer": "ipython3",
   "version": "3.12.7"
  }
 },
 "nbformat": 4,
 "nbformat_minor": 5
}
